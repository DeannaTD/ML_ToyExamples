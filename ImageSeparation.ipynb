{
 "cells": [
  {
   "attachments": {},
   "cell_type": "markdown",
   "id": "12acbb12",
   "metadata": {},
   "source": [
    "\n",
    "# Blind sourse separation"
   ]
  },
  {
   "attachments": {},
   "cell_type": "markdown",
   "id": "bcdc3848",
   "metadata": {},
   "source": [
    "### Task:\n",
    "Separate an image obtained as a sum of a two images into its components.\n",
    "The two images img1 and img2 summed together come from different dataset: mnist and fashion_mnist, respectively.\n",
    "The network takes in input the sum img1+img2 and returns the predicted components hat_img1 and hat_img2.\n",
    "The metric used to evaluate the project is the mean squared error between predicted and ground truth images.\n",
    "\n",
    "### Model:\n",
    "For this task, as a model was taken a classic U-net architecture with residual skips. For the validation step train set was splitted into train and test with 1/3 split size"
   ]
  },
  {
   "cell_type": "code",
   "execution_count": 46,
   "id": "5db4d3c6",
   "metadata": {},
   "outputs": [],
   "source": [
    "#import section\n",
    "import numpy as np\n",
    "from matplotlib import pyplot as plt\n",
    "\n",
    "import tensorflow as tf\n",
    "import tensorflow.keras as ks\n",
    "from tensorflow.keras import layers\n",
    "from tensorflow.keras.datasets import mnist, fashion_mnist\n",
    "\n",
    "from sklearn.model_selection import train_test_split"
   ]
  },
  {
   "cell_type": "code",
   "execution_count": 47,
   "id": "829297a4",
   "metadata": {},
   "outputs": [],
   "source": [
    "#Loading datasets\n",
    "(mnist_x_train, mnist_y_train), (mnist_x_test, mnist_y_test) = mnist.load_data()\n",
    "(fashion_mnist_x_train, fashion_mnist_y_train), (fashion_mnist_x_test, fashion_mnist_y_test) = fashion_mnist.load_data()\n",
    "\n",
    "#Splitting train sets into train and validation sets\n",
    "mnist_x_train, mnist_x_val, mnist_y_train, mnist_y_val = train_test_split(\n",
    "    mnist_x_train, mnist_y_train,\n",
    "    test_size=0.33, random_state=42)\n",
    "fashion_mnist_x_train, fashion_mnist_x_val, fashion_mnist_y_train, fashion_mnist_y_val = train_test_split(\n",
    "    fashion_mnist_x_train, fashion_mnist_y_train,\n",
    "    test_size=0.33, random_state=42)\n",
    "\n",
    "#normnalize in and pad\n",
    "mnist_x_train = np.pad(mnist_x_train,((0,0),(2,2),(2,2)))/255.\n",
    "mnist_x_test = np.pad(mnist_x_test,((0,0),(2,2),(2,2)))/255.\n",
    "mnist_x_val = np.pad(mnist_x_val,((0,0),(2,2),(2,2)))/255.\n",
    "\n",
    "fashion_mnist_x_train = np.pad(fashion_mnist_x_train,((0,0),(2,2),(2,2)))/255.\n",
    "fashion_mnist_x_test = np.pad(fashion_mnist_x_test,((0,0),(2,2),(2,2)))/255.\n",
    "fashion_mnist_x_val = np.pad(fashion_mnist_x_val,((0,0),(2,2),(2,2)))/255."
   ]
  },
  {
   "cell_type": "code",
   "execution_count": 48,
   "id": "59e3b70a",
   "metadata": {},
   "outputs": [],
   "source": [
    "np.random.seed(42)\n",
    "\n",
    "def datagenerator(x1,x2,batchsize):\n",
    "    n1 = x1.shape[0]\n",
    "    n2 = x2.shape[0]\n",
    "    while True:\n",
    "        num1 = np.random.randint(0, n1, batchsize)\n",
    "        num2 = np.random.randint(0, n2, batchsize)\n",
    "\n",
    "        x_data = (x1[num1] + x2[num2]) / 2.0\n",
    "        y_data = np.concatenate((x1[num1], x2[num2]), axis=2)\n",
    "\n",
    "        yield x_data, y_data\n",
    "\n",
    "s_count = 1\n",
    "train_generator = datagenerator(mnist_x_train,fashion_mnist_x_train, s_count)\n",
    "test_generator = datagenerator(mnist_x_test,fashion_mnist_x_test, s_count)\n",
    "val_generator = datagenerator(mnist_x_val,fashion_mnist_x_val, s_count)"
   ]
  },
  {
   "cell_type": "code",
   "execution_count": 52,
   "id": "6a1f0064",
   "metadata": {},
   "outputs": [],
   "source": [
    "input_shape = (32,32,1)\n",
    "channels = 64\n",
    "net_depth = 4\n",
    "\n",
    "#Initializing the input layer\n",
    "input_layer = layers.Input(shape=input_shape)\n",
    "#layer - is a current layer in build\n",
    "layer = input_layer\n",
    "#list of layers to pass\n",
    "down_layers = []\n",
    "\n",
    "#Downsample stage\n",
    "for level in range(net_depth):\n",
    "    #saving the state to pass it to the end of residual block\n",
    "    residual = layers.Conv2D(channels, 1, padding='same')(layer)\n",
    "    \n",
    "    #making 2 convolutions per block\n",
    "    layer = layers.Conv2D(channels, (3,3), padding='same')(layer)\n",
    "    layer = layers.BatchNormalization()(layer)\n",
    "    layer = layers.ReLU()(layer)\n",
    "    \n",
    "    layer = layers.Conv2D(channels, (3,3), padding='same')(layer)\n",
    "    layer = layers.BatchNormalization()(layer)\n",
    "    \n",
    "    #adding a residual connection before final block activation\n",
    "    layer = layers.Add()([residual, layer])\n",
    "    layer = layers.ReLU()(layer)\n",
    "    \n",
    "    #saving a layer to pass, except the last one\n",
    "    if(level < net_depth - 1):\n",
    "        down_layers.append(layer)\n",
    "        layer = layers.MaxPool2D(padding='same')(layer)\n",
    "        channels = channels * 2\n",
    "        \n",
    "#Upsample stage\n",
    "for level in range(net_depth - 1):\n",
    "    channels = channels // 2\n",
    "    #upsampling using Conv2DTranspose\n",
    "    layer = layers.Conv2DTranspose(channels, (3,3), strides=(2,2), padding='same')(layer)\n",
    "    layer = layers.concatenate([layer, down_layers.pop(-1)])\n",
    "    \n",
    "    #saving layer for residual connection\n",
    "    residual = layers.Conv2D(channels, 1, padding='same')(layer)\n",
    "    \n",
    "    #performing two convolutions per block\n",
    "    layer = layers.Conv2D(channels, (2,2), padding='same')(layer)\n",
    "    layer = layers.BatchNormalization()(layer)\n",
    "    layer = layers.ReLU()(layer)\n",
    "    \n",
    "    layer = layers.Conv2D(channels, (2,2), padding='same')(layer)\n",
    "    layer = layers.BatchNormalization()(layer)\n",
    "    \n",
    "    #adding residual connection before final block activation\n",
    "    layer = layers.Add()([residual, layer])\n",
    "    layer = layers.ReLU()(layer)\n",
    "    \n",
    "#final activation layer\n",
    "layer = layers.Conv2D(2, (1,1), activation='sigmoid')(layer)\n",
    "#reshaping the output layer to get 32x64 image out of (32x32x2)\n",
    "output_layer = layers.Reshape((32,64,1))(layer)\n",
    "\n",
    "model = ks.models.Model(inputs=[input_layer], outputs=[output_layer])"
   ]
  },
  {
   "cell_type": "code",
   "execution_count": 53,
   "id": "59a9960e",
   "metadata": {},
   "outputs": [
    {
     "name": "stdout",
     "output_type": "stream",
     "text": [
      "Model: \"model_16\"\n",
      "__________________________________________________________________________________________________\n",
      " Layer (type)                   Output Shape         Param #     Connected to                     \n",
      "==================================================================================================\n",
      " input_18 (InputLayer)          [(None, 32, 32, 1)]  0           []                               \n",
      "                                                                                                  \n",
      " conv2d_223 (Conv2D)            (None, 32, 32, 64)   640         ['input_18[0][0]']               \n",
      "                                                                                                  \n",
      " batch_normalization_198 (Batch  (None, 32, 32, 64)  256         ['conv2d_223[0][0]']             \n",
      " Normalization)                                                                                   \n",
      "                                                                                                  \n",
      " re_lu_194 (ReLU)               (None, 32, 32, 64)   0           ['batch_normalization_198[0][0]']\n",
      "                                                                                                  \n",
      " conv2d_224 (Conv2D)            (None, 32, 32, 64)   36928       ['re_lu_194[0][0]']              \n",
      "                                                                                                  \n",
      " conv2d_222 (Conv2D)            (None, 32, 32, 64)   128         ['input_18[0][0]']               \n",
      "                                                                                                  \n",
      " batch_normalization_199 (Batch  (None, 32, 32, 64)  256         ['conv2d_224[0][0]']             \n",
      " Normalization)                                                                                   \n",
      "                                                                                                  \n",
      " add_7 (Add)                    (None, 32, 32, 64)   0           ['conv2d_222[0][0]',             \n",
      "                                                                  'batch_normalization_199[0][0]']\n",
      "                                                                                                  \n",
      " re_lu_195 (ReLU)               (None, 32, 32, 64)   0           ['add_7[0][0]']                  \n",
      "                                                                                                  \n",
      " max_pooling2d_41 (MaxPooling2D  (None, 16, 16, 64)  0           ['re_lu_195[0][0]']              \n",
      " )                                                                                                \n",
      "                                                                                                  \n",
      " conv2d_226 (Conv2D)            (None, 16, 16, 128)  73856       ['max_pooling2d_41[0][0]']       \n",
      "                                                                                                  \n",
      " batch_normalization_200 (Batch  (None, 16, 16, 128)  512        ['conv2d_226[0][0]']             \n",
      " Normalization)                                                                                   \n",
      "                                                                                                  \n",
      " re_lu_196 (ReLU)               (None, 16, 16, 128)  0           ['batch_normalization_200[0][0]']\n",
      "                                                                                                  \n",
      " conv2d_227 (Conv2D)            (None, 16, 16, 128)  147584      ['re_lu_196[0][0]']              \n",
      "                                                                                                  \n",
      " conv2d_225 (Conv2D)            (None, 16, 16, 128)  8320        ['max_pooling2d_41[0][0]']       \n",
      "                                                                                                  \n",
      " batch_normalization_201 (Batch  (None, 16, 16, 128)  512        ['conv2d_227[0][0]']             \n",
      " Normalization)                                                                                   \n",
      "                                                                                                  \n",
      " add_8 (Add)                    (None, 16, 16, 128)  0           ['conv2d_225[0][0]',             \n",
      "                                                                  'batch_normalization_201[0][0]']\n",
      "                                                                                                  \n",
      " re_lu_197 (ReLU)               (None, 16, 16, 128)  0           ['add_8[0][0]']                  \n",
      "                                                                                                  \n",
      " max_pooling2d_42 (MaxPooling2D  (None, 8, 8, 128)   0           ['re_lu_197[0][0]']              \n",
      " )                                                                                                \n",
      "                                                                                                  \n",
      " conv2d_229 (Conv2D)            (None, 8, 8, 256)    295168      ['max_pooling2d_42[0][0]']       \n",
      "                                                                                                  \n",
      " batch_normalization_202 (Batch  (None, 8, 8, 256)   1024        ['conv2d_229[0][0]']             \n",
      " Normalization)                                                                                   \n",
      "                                                                                                  \n",
      " re_lu_198 (ReLU)               (None, 8, 8, 256)    0           ['batch_normalization_202[0][0]']\n",
      "                                                                                                  \n",
      " conv2d_230 (Conv2D)            (None, 8, 8, 256)    590080      ['re_lu_198[0][0]']              \n",
      "                                                                                                  \n",
      " conv2d_228 (Conv2D)            (None, 8, 8, 256)    33024       ['max_pooling2d_42[0][0]']       \n",
      "                                                                                                  \n",
      " batch_normalization_203 (Batch  (None, 8, 8, 256)   1024        ['conv2d_230[0][0]']             \n",
      " Normalization)                                                                                   \n",
      "                                                                                                  \n",
      " add_9 (Add)                    (None, 8, 8, 256)    0           ['conv2d_228[0][0]',             \n",
      "                                                                  'batch_normalization_203[0][0]']\n",
      "                                                                                                  \n",
      " re_lu_199 (ReLU)               (None, 8, 8, 256)    0           ['add_9[0][0]']                  \n",
      "                                                                                                  \n",
      " max_pooling2d_43 (MaxPooling2D  (None, 4, 4, 256)   0           ['re_lu_199[0][0]']              \n",
      " )                                                                                                \n",
      "                                                                                                  \n",
      " conv2d_232 (Conv2D)            (None, 4, 4, 512)    1180160     ['max_pooling2d_43[0][0]']       \n",
      "                                                                                                  \n",
      " batch_normalization_204 (Batch  (None, 4, 4, 512)   2048        ['conv2d_232[0][0]']             \n",
      " Normalization)                                                                                   \n",
      "                                                                                                  \n",
      " re_lu_200 (ReLU)               (None, 4, 4, 512)    0           ['batch_normalization_204[0][0]']\n",
      "                                                                                                  \n",
      " conv2d_233 (Conv2D)            (None, 4, 4, 512)    2359808     ['re_lu_200[0][0]']              \n",
      "                                                                                                  \n",
      " conv2d_231 (Conv2D)            (None, 4, 4, 512)    131584      ['max_pooling2d_43[0][0]']       \n",
      "                                                                                                  \n",
      " batch_normalization_205 (Batch  (None, 4, 4, 512)   2048        ['conv2d_233[0][0]']             \n"
     ]
    },
    {
     "name": "stdout",
     "output_type": "stream",
     "text": [
      " Normalization)                                                                                   \n",
      "                                                                                                  \n",
      " add_10 (Add)                   (None, 4, 4, 512)    0           ['conv2d_231[0][0]',             \n",
      "                                                                  'batch_normalization_205[0][0]']\n",
      "                                                                                                  \n",
      " re_lu_201 (ReLU)               (None, 4, 4, 512)    0           ['add_10[0][0]']                 \n",
      "                                                                                                  \n",
      " conv2d_transpose_41 (Conv2DTra  (None, 8, 8, 256)   1179904     ['re_lu_201[0][0]']              \n",
      " nspose)                                                                                          \n",
      "                                                                                                  \n",
      " concatenate_41 (Concatenate)   (None, 8, 8, 512)    0           ['conv2d_transpose_41[0][0]',    \n",
      "                                                                  're_lu_199[0][0]']              \n",
      "                                                                                                  \n",
      " conv2d_235 (Conv2D)            (None, 8, 8, 256)    524544      ['concatenate_41[0][0]']         \n",
      "                                                                                                  \n",
      " batch_normalization_206 (Batch  (None, 8, 8, 256)   1024        ['conv2d_235[0][0]']             \n",
      " Normalization)                                                                                   \n",
      "                                                                                                  \n",
      " re_lu_202 (ReLU)               (None, 8, 8, 256)    0           ['batch_normalization_206[0][0]']\n",
      "                                                                                                  \n",
      " conv2d_236 (Conv2D)            (None, 8, 8, 256)    262400      ['re_lu_202[0][0]']              \n",
      "                                                                                                  \n",
      " conv2d_234 (Conv2D)            (None, 8, 8, 256)    131328      ['concatenate_41[0][0]']         \n",
      "                                                                                                  \n",
      " batch_normalization_207 (Batch  (None, 8, 8, 256)   1024        ['conv2d_236[0][0]']             \n",
      " Normalization)                                                                                   \n",
      "                                                                                                  \n",
      " add_11 (Add)                   (None, 8, 8, 256)    0           ['conv2d_234[0][0]',             \n",
      "                                                                  'batch_normalization_207[0][0]']\n",
      "                                                                                                  \n",
      " re_lu_203 (ReLU)               (None, 8, 8, 256)    0           ['add_11[0][0]']                 \n",
      "                                                                                                  \n",
      " conv2d_transpose_42 (Conv2DTra  (None, 16, 16, 128)  295040     ['re_lu_203[0][0]']              \n",
      " nspose)                                                                                          \n",
      "                                                                                                  \n",
      " concatenate_42 (Concatenate)   (None, 16, 16, 256)  0           ['conv2d_transpose_42[0][0]',    \n",
      "                                                                  're_lu_197[0][0]']              \n",
      "                                                                                                  \n",
      " conv2d_238 (Conv2D)            (None, 16, 16, 128)  131200      ['concatenate_42[0][0]']         \n",
      "                                                                                                  \n",
      " batch_normalization_208 (Batch  (None, 16, 16, 128)  512        ['conv2d_238[0][0]']             \n",
      " Normalization)                                                                                   \n",
      "                                                                                                  \n",
      " re_lu_204 (ReLU)               (None, 16, 16, 128)  0           ['batch_normalization_208[0][0]']\n",
      "                                                                                                  \n",
      " conv2d_239 (Conv2D)            (None, 16, 16, 128)  65664       ['re_lu_204[0][0]']              \n",
      "                                                                                                  \n",
      " conv2d_237 (Conv2D)            (None, 16, 16, 128)  32896       ['concatenate_42[0][0]']         \n",
      "                                                                                                  \n",
      " batch_normalization_209 (Batch  (None, 16, 16, 128)  512        ['conv2d_239[0][0]']             \n",
      " Normalization)                                                                                   \n",
      "                                                                                                  \n",
      " add_12 (Add)                   (None, 16, 16, 128)  0           ['conv2d_237[0][0]',             \n",
      "                                                                  'batch_normalization_209[0][0]']\n",
      "                                                                                                  \n",
      " re_lu_205 (ReLU)               (None, 16, 16, 128)  0           ['add_12[0][0]']                 \n",
      "                                                                                                  \n",
      " conv2d_transpose_43 (Conv2DTra  (None, 32, 32, 64)  73792       ['re_lu_205[0][0]']              \n",
      " nspose)                                                                                          \n",
      "                                                                                                  \n",
      " concatenate_43 (Concatenate)   (None, 32, 32, 128)  0           ['conv2d_transpose_43[0][0]',    \n",
      "                                                                  're_lu_195[0][0]']              \n",
      "                                                                                                  \n",
      " conv2d_241 (Conv2D)            (None, 32, 32, 64)   32832       ['concatenate_43[0][0]']         \n",
      "                                                                                                  \n",
      " batch_normalization_210 (Batch  (None, 32, 32, 64)  256         ['conv2d_241[0][0]']             \n",
      " Normalization)                                                                                   \n",
      "                                                                                                  \n",
      " re_lu_206 (ReLU)               (None, 32, 32, 64)   0           ['batch_normalization_210[0][0]']\n",
      "                                                                                                  \n",
      " conv2d_242 (Conv2D)            (None, 32, 32, 64)   16448       ['re_lu_206[0][0]']              \n",
      "                                                                                                  \n",
      " conv2d_240 (Conv2D)            (None, 32, 32, 64)   8256        ['concatenate_43[0][0]']         \n",
      "                                                                                                  \n",
      " batch_normalization_211 (Batch  (None, 32, 32, 64)  256         ['conv2d_242[0][0]']             \n",
      " Normalization)                                                                                   \n",
      "                                                                                                  \n",
      " add_13 (Add)                   (None, 32, 32, 64)   0           ['conv2d_240[0][0]',             \n",
      "                                                                  'batch_normalization_211[0][0]']\n",
      "                                                                                                  \n",
      " re_lu_207 (ReLU)               (None, 32, 32, 64)   0           ['add_13[0][0]']                 \n",
      "                                                                                                  \n",
      " conv2d_243 (Conv2D)            (None, 32, 32, 2)    130         ['re_lu_207[0][0]']              \n"
     ]
    },
    {
     "name": "stdout",
     "output_type": "stream",
     "text": [
      "                                                                                                  \n",
      " reshape_13 (Reshape)           (None, 32, 64, 1)    0           ['conv2d_243[0][0]']             \n",
      "                                                                                                  \n",
      "==================================================================================================\n",
      "Total params: 7,622,978\n",
      "Trainable params: 7,617,346\n",
      "Non-trainable params: 5,632\n",
      "__________________________________________________________________________________________________\n",
      "None\n"
     ]
    }
   ],
   "source": [
    "print(model.summary())"
   ]
  },
  {
   "cell_type": "markdown",
   "id": "84850688",
   "metadata": {},
   "source": [
    "### Learning stage\n",
    "Final model has 7.6M parameters (5K non-trainable of BatchNormalization)\n",
    "For fitting Adam optimizer with default learning rate (1e-3) was chosen.\n",
    "Callbacks:\n",
    "- early stopping motinoring the loss function with patience=3\n",
    "- learning rate reduction monitoring loss funtion on validation data\n",
    "\n",
    "Maximum number of epochs is 20 (since non of previous runs with more epochs never reached 22nd epoch due to early stopping)"
   ]
  },
  {
   "cell_type": "code",
   "execution_count": 54,
   "id": "ba2f6bbc",
   "metadata": {},
   "outputs": [
    {
     "name": "stdout",
     "output_type": "stream",
     "text": [
      "Epoch 1/20\n",
      "1000/1000 [==============================] - 106s 101ms/step - loss: 0.0274 - accuracy: 0.7327 - val_loss: 0.0196 - val_accuracy: 0.7281 - lr: 0.0010\n",
      "Epoch 2/20\n",
      "1000/1000 [==============================] - 118s 118ms/step - loss: 0.0154 - accuracy: 0.7378 - val_loss: 0.0154 - val_accuracy: 0.7359 - lr: 0.0010\n",
      "Epoch 3/20\n",
      "1000/1000 [==============================] - 97s 97ms/step - loss: 0.0129 - accuracy: 0.7380 - val_loss: 0.0142 - val_accuracy: 0.7352 - lr: 0.0010\n",
      "Epoch 4/20\n",
      "1000/1000 [==============================] - 112s 112ms/step - loss: 0.0119 - accuracy: 0.7382 - val_loss: 0.0134 - val_accuracy: 0.7377 - lr: 0.0010\n",
      "Epoch 5/20\n",
      "1000/1000 [==============================] - 147s 147ms/step - loss: 0.0108 - accuracy: 0.7358 - val_loss: 0.0131 - val_accuracy: 0.7374 - lr: 0.0010\n",
      "Epoch 6/20\n",
      "1000/1000 [==============================] - 140s 140ms/step - loss: 0.0102 - accuracy: 0.7379 - val_loss: 0.0105 - val_accuracy: 0.7389 - lr: 0.0010\n",
      "Epoch 7/20\n",
      "1000/1000 [==============================] - 128s 128ms/step - loss: 0.0094 - accuracy: 0.7404 - val_loss: 0.0113 - val_accuracy: 0.7357 - lr: 0.0010\n",
      "Epoch 8/20\n",
      "1000/1000 [==============================] - 127s 127ms/step - loss: 0.0089 - accuracy: 0.7396 - val_loss: 0.0093 - val_accuracy: 0.7434 - lr: 0.0010\n",
      "Epoch 9/20\n",
      "1000/1000 [==============================] - 132s 132ms/step - loss: 0.0087 - accuracy: 0.7384 - val_loss: 0.0093 - val_accuracy: 0.7387 - lr: 0.0010\n",
      "Epoch 10/20\n",
      "1000/1000 [==============================] - 132s 132ms/step - loss: 0.0084 - accuracy: 0.7413 - val_loss: 0.0094 - val_accuracy: 0.7339 - lr: 0.0010\n",
      "Epoch 11/20\n",
      "1000/1000 [==============================] - 131s 131ms/step - loss: 0.0082 - accuracy: 0.7421 - val_loss: 0.0089 - val_accuracy: 0.7444 - lr: 0.0010\n",
      "Epoch 12/20\n",
      "1000/1000 [==============================] - 130s 130ms/step - loss: 0.0077 - accuracy: 0.7377 - val_loss: 0.0084 - val_accuracy: 0.7443 - lr: 0.0010\n",
      "Epoch 13/20\n",
      "1000/1000 [==============================] - 126s 126ms/step - loss: 0.0071 - accuracy: 0.7386 - val_loss: 0.0080 - val_accuracy: 0.7391 - lr: 0.0010\n",
      "Epoch 14/20\n",
      "1000/1000 [==============================] - 131s 131ms/step - loss: 0.0074 - accuracy: 0.7395 - val_loss: 0.0080 - val_accuracy: 0.7440 - lr: 0.0010\n",
      "Epoch 15/20\n",
      "1000/1000 [==============================] - 131s 131ms/step - loss: 0.0074 - accuracy: 0.7422 - val_loss: 0.0073 - val_accuracy: 0.7376 - lr: 0.0010\n",
      "Epoch 16/20\n",
      "1000/1000 [==============================] - 131s 131ms/step - loss: 0.0069 - accuracy: 0.7377 - val_loss: 0.0084 - val_accuracy: 0.7387 - lr: 0.0010\n",
      "Epoch 17/20\n",
      "1000/1000 [==============================] - 131s 131ms/step - loss: 0.0068 - accuracy: 0.7381 - val_loss: 0.0079 - val_accuracy: 0.7432 - lr: 0.0010\n",
      "Epoch 18/20\n",
      "1000/1000 [==============================] - 128s 128ms/step - loss: 0.0068 - accuracy: 0.7435 - val_loss: 0.0083 - val_accuracy: 0.7359 - lr: 0.0010\n",
      "Epoch 19/20\n",
      "1000/1000 [==============================] - 129s 129ms/step - loss: 0.0058 - accuracy: 0.7407 - val_loss: 0.0070 - val_accuracy: 0.7372 - lr: 5.0000e-04\n",
      "Epoch 20/20\n",
      "1000/1000 [==============================] - 129s 129ms/step - loss: 0.0054 - accuracy: 0.7406 - val_loss: 0.0069 - val_accuracy: 0.7398 - lr: 5.0000e-04\n"
     ]
    }
   ],
   "source": [
    "batchSize = 64\n",
    "maxEpochs = 20\n",
    "train_steps = 1000\n",
    "val_steps = 300\n",
    "\n",
    "early_stop = ks.callbacks.EarlyStopping(monitor='loss', patience=3)\n",
    "lr_reduction = ks.callbacks.ReduceLROnPlateau(monitr='val_loss', factor=0.5, patience=3)\n",
    "\n",
    "model.compile(optimizer=ks.optimizers.Adam(learning_rate=0.001),\n",
    "              loss='mean_squared_error', metrics=['accuracy'])\n",
    "\n",
    "fit_history = model.fit(train_generator, steps_per_epoch=train_steps,\n",
    "                        validation_data = val_generator, validation_steps=val_steps,\n",
    "                        batch_size = batchSize, epochs = maxEpochs,\n",
    "                        callbacks=[lr_reduction, early_stop])"
   ]
  },
  {
   "cell_type": "code",
   "execution_count": 55,
   "id": "005298bc",
   "metadata": {},
   "outputs": [],
   "source": [
    "model.save('exam_model.h5')"
   ]
  },
  {
   "cell_type": "code",
   "execution_count": 75,
   "id": "f11313db",
   "metadata": {},
   "outputs": [
    {
     "data": {
      "image/png": "[encoded data removed]",
      "text/plain": [
       "<Figure size 432x288 with 1 Axes>"
      ]
     },
     "metadata": {
      "needs_background": "light"
     },
     "output_type": "display_data"
    }
   ],
   "source": [
    "#plotting the progress of loss function\n",
    "plt.plot(fit_history.history['loss'])\n",
    "plt.plot(fit_history.history['val_loss'])\n",
    "plt.title('Loss history')\n",
    "plt.ylabel('loss')\n",
    "plt.xlabel('epoch')\n",
    "plt.legend(['train', 'validation'])\n",
    "plt.show()"
   ]
  },
  {
   "cell_type": "markdown",
   "id": "7ee6abdc",
   "metadata": {},
   "source": [
    "Since near the end of the fitting stage loss function on validation data started to grow, model was not fitted any further to prevent overfitting"
   ]
  },
  {
   "cell_type": "code",
   "execution_count": 58,
   "id": "63a2c959",
   "metadata": {},
   "outputs": [
    {
     "name": "stdout",
     "output_type": "stream",
     "text": [
      "1000/1000 [==============================] - 35s 35ms/step - loss: 0.0053 - accuracy: 0.7380\n",
      "1000/1000 [==============================] - 46s 45ms/step - loss: 0.0055 - accuracy: 0.7400\n",
      "1000/1000 [==============================] - 46s 45ms/step - loss: 0.0052 - accuracy: 0.7365\n",
      "1000/1000 [==============================] - 46s 46ms/step - loss: 0.0053 - accuracy: 0.7380\n",
      "1000/1000 [==============================] - 19s 19ms/step - loss: 0.0052 - accuracy: 0.7347\n",
      "1000/1000 [==============================] - 19s 19ms/step - loss: 0.0054 - accuracy: 0.7387\n",
      "1000/1000 [==============================] - 20s 20ms/step - loss: 0.0054 - accuracy: 0.7399\n",
      "1000/1000 [==============================] - 20s 20ms/step - loss: 0.0054 - accuracy: 0.7382\n",
      "1000/1000 [==============================] - 22s 22ms/step - loss: 0.0052 - accuracy: 0.7400\n",
      "1000/1000 [==============================] - 22s 22ms/step - loss: 0.0053 - accuracy: 0.7394\n"
     ]
    }
   ],
   "source": [
    "#evaluating the model\n",
    "mse = []\n",
    "for i in range(10):\n",
    "    mse.append(model.evaluate(test_generator, steps=1000)[0])"
   ]
  },
  {
   "cell_type": "code",
   "execution_count": 66,
   "id": "27a002a5",
   "metadata": {},
   "outputs": [
    {
     "name": "stdout",
     "output_type": "stream",
     "text": [
      "MSE on 10 evaluations: 0.0053 ; std = 9.3e-05\n"
     ]
    }
   ],
   "source": [
    "mse = np.array(mse)\n",
    "mse_res = mse.mean()\n",
    "std_res = mse.std()\n",
    "print('MSE on 10 evaluations: {:.4f}'.format(mse_res), '; std = {:.1e}'.format(std_res))"
   ]
  },
  {
   "cell_type": "code",
   "execution_count": 74,
   "id": "aea045d0",
   "metadata": {},
   "outputs": [
    {
     "name": "stdout",
     "output_type": "stream",
     "text": [
      "Input image:\n"
     ]
    },
    {
     "data": {
      "image/png": "[encoded data removed]",
      "text/plain": [
       "<Figure size 432x288 with 1 Axes>"
      ]
     },
     "metadata": {
      "needs_background": "light"
     },
     "output_type": "display_data"
    },
    {
     "name": "stdout",
     "output_type": "stream",
     "text": [
      "Predicted image:\n"
     ]
    },
    {
     "data": {
      "image/png": "[encoded data removed]",
      "text/plain": [
       "<Figure size 432x288 with 1 Axes>"
      ]
     },
     "metadata": {
      "needs_background": "light"
     },
     "output_type": "display_data"
    },
    {
     "name": "stdout",
     "output_type": "stream",
     "text": [
      "Groundtruth:\n"
     ]
    },
    {
     "data": {
      "image/png": "[encoded data removed]",
      "text/plain": [
       "<Figure size 432x288 with 1 Axes>"
      ]
     },
     "metadata": {
      "needs_background": "light"
     },
     "output_type": "display_data"
    }
   ],
   "source": [
    "#Visualization of model work on test set\n",
    "test_img_x, test_img_y = next(test_generator)\n",
    "test_img_x = np.array([np.transpose(test_img_x, (1,2,0))])\n",
    "\n",
    "predicted_img = model.predict(test_img_x, verbose=0)\n",
    "\n",
    "print('Input image:')\n",
    "plt.imshow(test_img_x[0],cmap='gray', interpolation='nearest')\n",
    "plt.show()\n",
    "\n",
    "print('Predicted image:')\n",
    "plt.imshow(predicted_img[0],cmap='gray', interpolation='nearest')\n",
    "plt.show()\n",
    "\n",
    "print('Groundtruth:')\n",
    "plt.imshow(test_img_y[0],cmap='gray', interpolation='nearest')\n",
    "plt.show()"
   ]
  },
  {
   "cell_type": "code",
   "execution_count": null,
   "id": "b1cf192e",
   "metadata": {},
   "outputs": [],
   "source": []
  }
 ],
 "metadata": {
  "kernelspec": {
   "display_name": "Python 3 (ipykernel)",
   "language": "python",
   "name": "python3"
  },
  "language_info": {
   "codemirror_mode": {
    "name": "ipython",
    "version": 3
   },
   "file_extension": ".py",
   "mimetype": "text/x-python",
   "name": "python",
   "nbconvert_exporter": "python",
   "pygments_lexer": "ipython3",
   "version": "3.8.8"
  }
 },
 "nbformat": 4,
 "nbformat_minor": 5
}
